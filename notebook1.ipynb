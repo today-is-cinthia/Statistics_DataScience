{
 "cells": [
  {
   "cell_type": "markdown",
   "id": "66fba5ca-a647-493a-9896-7d374c400602",
   "metadata": {
    "tags": []
   },
   "source": [
    "\n",
    "<center><h1 style=\"color:#102682; margin-top:20%;\">Estadística I</h1></center>"
   ]
  },
  {
   "cell_type": "markdown",
   "id": "a72c4e35-5383-4aef-9761-77c0a3333904",
   "metadata": {
    "jp-MarkdownHeadingCollapsed": true,
    "tags": []
   },
   "source": [
    "<center><img src=\"https://isdfundacion.org/wp-content/uploads/2019/11/Plantilla-entradas-ESTADISTICA-1.jpg\" style=\"height:40%;width:50%; margin-bottom:20%;\"></center>"
   ]
  },
  {
   "cell_type": "markdown",
   "id": "43b7efae-27f8-40c9-9cc8-283bf4aaacdd",
   "metadata": {},
   "source": [
    "<center><h3 style=\"color:#028907;font-size:30px;\">Exportación de datos Excel</h3></center>\n"
   ]
  },
  {
   "cell_type": "markdown",
   "id": "c9925057-68b5-4f34-8ed3-10a03f328e35",
   "metadata": {},
   "source": [
    "<center><img style=\"height:20%;width:50%;\" src=\"https://aulavirtual.otc.cl/pluginfile.php/10123/coursecat/description/yGmItpeEq4wbRJ.png\"></center>"
   ]
  },
  {
   "cell_type": "code",
   "execution_count": 23,
   "id": "04b96df5-f914-4614-bc1a-3a33b91afb32",
   "metadata": {},
   "outputs": [],
   "source": [
    "import pandas as pd\n",
    "\n",
    "archivo = [3.1, 4.9, 2.8, 3.6, 4.5, 3.5, 2.8, 4.1, 2.9, 2.1, 3.7, 4.1, 2.7, 4.2, 3.5, 3.7, 3.8, 2.2, 4.4, 2.9, 5.1, 1.8, 2.5, 6.2, 2.5, 3.6, 5.6, 4.8, 3.6, 6.1, 5.1, 3.9, 4.3, 5.7, 4.7, 4.6, 5.1, 4.9, 4.2, 3.1]\n"
   ]
  },
  {
   "cell_type": "markdown",
   "id": "8bf40a8b-5070-4b6e-8241-9a2371a5bbe3",
   "metadata": {},
   "source": [
    "<center><h3 style=\"color:#900909; font-size:30px;\">N° total de datos</h3>\n",
    "<img style=\"height:40%;width:40%;\" src=\"https://static.vecteezy.com/system/resources/previews/007/566/090/non_2x/summation-flat-design-long-shadow-glyph-icon-sum-or-total-math-symbol-silhouette-illustration-vector.jpg\"></center>"
   ]
  },
  {
   "cell_type": "code",
   "execution_count": 29,
   "id": "0d064c8e-f78e-40ad-a665-16176ee9c3bf",
   "metadata": {},
   "outputs": [
    {
     "name": "stdout",
     "output_type": "stream",
     "text": [
      "N° total de datos: 40\n"
     ]
    }
   ],
   "source": [
    "Total = len(archivo)\n",
    "print(f\"N° total de datos: {Total}\")"
   ]
  },
  {
   "cell_type": "markdown",
   "id": "7b08eeb7-35e3-4f71-8aa2-fe99c54b54e2",
   "metadata": {},
   "source": [
    "<center><h3 style=\"color:#ff8800; font-size:30px;\">Valor Máximo</h3>\n",
    "<img style=\"height:40%;width:40%;\" src=\"https://cdn-icons-png.flaticon.com/512/3434/3434819.png\"></center>"
   ]
  },
  {
   "cell_type": "code",
   "execution_count": 31,
   "id": "2fa0cd05-5bd0-4524-b42c-fec1cd52a7a9",
   "metadata": {},
   "outputs": [
    {
     "name": "stdout",
     "output_type": "stream",
     "text": [
      "Valor máximo total: 6.2 \n",
      "Valor máximo total redondeado: 6\n"
     ]
    }
   ],
   "source": [
    "MaxValue = None\n",
    "\n",
    "for num in archivo:\n",
    "    if (MaxValue is None or num > MaxValue):\n",
    "        MaxValue = num\n",
    "print(f\"Valor máximo total: {MaxValue} \\nValor máximo total redondeado: {round(MaxValue)}\")"
   ]
  },
  {
   "cell_type": "markdown",
   "id": "74e64e6b-2a66-44b8-801c-42ba8a028506",
   "metadata": {},
   "source": [
    "<center><h3 style=\"color:#892db3; font-size:30px; margin-top:20%;\">Valor Mínimo</h3>\n",
    "<img style=\"height:40%;width:40%;\" src=\"https://media.istockphoto.com/id/93356036/photo/business-graph.jpg?s=612x612&w=0&k=20&c=u1hSdgISKWecMBSgz5H8p3Pf1oCZqx_oTqWJRJx6ccc=\"></center>"
   ]
  },
  {
   "cell_type": "code",
   "execution_count": 34,
   "id": "6bbce691-7013-49d5-89d0-0b45dfa191c1",
   "metadata": {},
   "outputs": [
    {
     "name": "stdout",
     "output_type": "stream",
     "text": [
      "Valor máximo total: 1.8 \n",
      "Valor máximo total redondeado: 2\n"
     ]
    }
   ],
   "source": [
    "MinValue = None\n",
    "for num in archivo:\n",
    "    if (MinValue is None or num < MinValue):\n",
    "        MinValue = num\n",
    "print(f\"Valor máximo total: {MinValue} \\nValor máximo total redondeado: {round(MinValue)}\")"
   ]
  },
  {
   "cell_type": "markdown",
   "id": "d0b7ae4b-9e03-4a3b-9a1e-5c87afd93020",
   "metadata": {},
   "source": [
    "<center><h3 style=\"color:#ff5f88; font-size:30px; margin-top:10%;\">Rango</h3>\n",
    "<img style=\"height:40%;width:40%;\" src=\"https://helpingwithmath.com/wp-content/uploads/2021/10/image-46-1024x576.png\"></center>"
   ]
  },
  {
   "cell_type": "code",
   "execution_count": 35,
   "id": "aedc72b4-46fb-45c5-9f5b-d7e001248876",
   "metadata": {},
   "outputs": [
    {
     "name": "stdout",
     "output_type": "stream",
     "text": [
      "Rango: 4.4\n"
     ]
    }
   ],
   "source": [
    "rango = MaxValue - MinValue\n",
    "print(f\"Rango: {rango}\")"
   ]
  },
  {
   "cell_type": "markdown",
   "id": "eb3c1423-3a4a-4b34-9fcf-6253218ee5c7",
   "metadata": {},
   "source": [
    "<center><h3 style=\"color:#99375b; font-size:30px; margin-top:10%;\">N° de intervalos</h3>\n",
    "<img style=\"height:40%;width:40%;\" src=\"https://images.ctfassets.net/pdf29us7flmy/1OY6V5qnB5e490hm3lTK2i/c490cc85b117b64bc5ac10f0b9d6f1a4/GOLD-6487-CareerGuide-Batch04-Images-GraphCharts-04-Histogram.png\"></center>"
   ]
  },
  {
   "cell_type": "code",
   "execution_count": 36,
   "id": "dc63e855-2feb-4020-b859-71adabdc1fc2",
   "metadata": {},
   "outputs": [
    {
     "name": "stdout",
     "output_type": "stream",
     "text": [
      "N° de intervalos: 6.322043291191491\n",
      "N° de intervalos redondeado: 6\n"
     ]
    }
   ],
   "source": [
    "from math import log10\n",
    "\n",
    "intervalos = 1 + (3.322 * log10(Total))\n",
    "\n",
    "print(f\"N° de intervalos: {intervalos}\\nN° de intervalos redondeado: {round(intervalos)}\")"
   ]
  },
  {
   "cell_type": "markdown",
   "id": "e56945ce-c187-4c00-8e2f-ef0f8865e0fd",
   "metadata": {},
   "source": [
    "<center><h3 style=\"color:#1c0c0c; font-size:30px; margin-top:10%;\">Longitud</h3>\n",
    "<img style=\"height:40%;width:40%;\" src=\"https://static.vecteezy.com/system/resources/previews/020/294/525/non_2x/length-yellow-measuring-tape-cartoon-illustration-vector.jpg\"></center>"
   ]
  },
  {
   "cell_type": "code",
   "execution_count": 37,
   "id": "741fe615-c69b-4b76-ba6f-b4d39678b556",
   "metadata": {},
   "outputs": [
    {
     "name": "stdout",
     "output_type": "stream",
     "text": [
      "Longitud: 0.7333333333333334\n"
     ]
    }
   ],
   "source": [
    "lon = rango / round(intervalos)\n",
    "print(f\"Longitud: {lon}\")"
   ]
  },
  {
   "cell_type": "markdown",
   "id": "50e4f62f-81e9-4db6-a9d6-8f938cf63abd",
   "metadata": {},
   "source": [
    "<center><h3 style=\"color:#116d74; font-size:30px; margin-top:10%;\">Tabla de distribución de frecuencias <br> para datos agrupados</h3></center>"
   ]
  },
  {
   "cell_type": "code",
   "execution_count": 167,
   "id": "37780359-25d3-497e-be97-e2bacceaf1c4",
   "metadata": {
    "tags": []
   },
   "outputs": [
    {
     "data": {
      "text/html": [
       "<div>\n",
       "<style scoped>\n",
       "    .dataframe tbody tr th:only-of-type {\n",
       "        vertical-align: middle;\n",
       "    }\n",
       "\n",
       "    .dataframe tbody tr th {\n",
       "        vertical-align: top;\n",
       "    }\n",
       "\n",
       "    .dataframe thead th {\n",
       "        text-align: right;\n",
       "    }\n",
       "</style>\n",
       "<table border=\"1\" class=\"dataframe\">\n",
       "  <thead>\n",
       "    <tr style=\"text-align: right;\">\n",
       "      <th></th>\n",
       "      <th>Clase (Intervalo)</th>\n",
       "      <th>Marca de Clase</th>\n",
       "      <th>Frecuencia Absoluta</th>\n",
       "      <th>Frecuencia Absoluta Acumulada</th>\n",
       "      <th>Frecuencia relativa</th>\n",
       "      <th>Frecuencia Relativa Acumulada</th>\n",
       "      <th>Frecuencia Porcentual</th>\n",
       "      <th>Frecuencia Porcentual Acumulada</th>\n",
       "    </tr>\n",
       "  </thead>\n",
       "  <tbody>\n",
       "    <tr>\n",
       "      <th>1</th>\n",
       "      <td>[1, 2)</td>\n",
       "      <td>1.5</td>\n",
       "      <td>1</td>\n",
       "      <td>1</td>\n",
       "      <td>0.025</td>\n",
       "      <td>0.025</td>\n",
       "      <td>2.5</td>\n",
       "      <td>2.5</td>\n",
       "    </tr>\n",
       "    <tr>\n",
       "      <th>2</th>\n",
       "      <td>[2, 3)</td>\n",
       "      <td>2.5</td>\n",
       "      <td>9</td>\n",
       "      <td>10</td>\n",
       "      <td>0.225</td>\n",
       "      <td>0.250</td>\n",
       "      <td>22.5</td>\n",
       "      <td>25.0</td>\n",
       "    </tr>\n",
       "    <tr>\n",
       "      <th>3</th>\n",
       "      <td>[3, 4)</td>\n",
       "      <td>3.5</td>\n",
       "      <td>11</td>\n",
       "      <td>21</td>\n",
       "      <td>0.275</td>\n",
       "      <td>0.525</td>\n",
       "      <td>27.5</td>\n",
       "      <td>52.5</td>\n",
       "    </tr>\n",
       "    <tr>\n",
       "      <th>4</th>\n",
       "      <td>[4, 5)</td>\n",
       "      <td>4.5</td>\n",
       "      <td>12</td>\n",
       "      <td>33</td>\n",
       "      <td>0.300</td>\n",
       "      <td>0.825</td>\n",
       "      <td>30.0</td>\n",
       "      <td>82.5</td>\n",
       "    </tr>\n",
       "    <tr>\n",
       "      <th>5</th>\n",
       "      <td>[5, 6)</td>\n",
       "      <td>5.5</td>\n",
       "      <td>5</td>\n",
       "      <td>38</td>\n",
       "      <td>0.125</td>\n",
       "      <td>0.950</td>\n",
       "      <td>12.5</td>\n",
       "      <td>95.0</td>\n",
       "    </tr>\n",
       "    <tr>\n",
       "      <th>6</th>\n",
       "      <td>[6, 7)</td>\n",
       "      <td>6.5</td>\n",
       "      <td>2</td>\n",
       "      <td>40</td>\n",
       "      <td>0.050</td>\n",
       "      <td>1.000</td>\n",
       "      <td>5.0</td>\n",
       "      <td>100.0</td>\n",
       "    </tr>\n",
       "  </tbody>\n",
       "</table>\n",
       "</div>"
      ],
      "text/plain": [
       "  Clase (Intervalo)  Marca de Clase  Frecuencia Absoluta  \\\n",
       "1            [1, 2)             1.5                    1   \n",
       "2            [2, 3)             2.5                    9   \n",
       "3            [3, 4)             3.5                   11   \n",
       "4            [4, 5)             4.5                   12   \n",
       "5            [5, 6)             5.5                    5   \n",
       "6            [6, 7)             6.5                    2   \n",
       "\n",
       "   Frecuencia Absoluta Acumulada  Frecuencia relativa  \\\n",
       "1                              1                0.025   \n",
       "2                             10                0.225   \n",
       "3                             21                0.275   \n",
       "4                             33                0.300   \n",
       "5                             38                0.125   \n",
       "6                             40                0.050   \n",
       "\n",
       "   Frecuencia Relativa Acumulada  Frecuencia Porcentual  \\\n",
       "1                          0.025                    2.5   \n",
       "2                          0.250                   22.5   \n",
       "3                          0.525                   27.5   \n",
       "4                          0.825                   30.0   \n",
       "5                          0.950                   12.5   \n",
       "6                          1.000                    5.0   \n",
       "\n",
       "   Frecuencia Porcentual Acumulada  \n",
       "1                              2.5  \n",
       "2                             25.0  \n",
       "3                             52.5  \n",
       "4                             82.5  \n",
       "5                             95.0  \n",
       "6                            100.0  "
      ]
     },
     "execution_count": 167,
     "metadata": {},
     "output_type": "execute_result"
    }
   ],
   "source": [
    "from math import floor, ceil\n",
    "from collections import Counter\n",
    "\n",
    "\n",
    "\n",
    "# Creando una tabla bidimensional con DataFrame\n",
    "tabla = pd.DataFrame(columns = [ 'Clase (Intervalo)', 'Marca de Clase', 'Frecuencia Absoluta', 'Frecuencia Absoluta Acumulada','Frecuencia relativa', 'Frecuencia Relativa Acumulada', 'Frecuencia Porcentual', 'Frecuencia Porcentual Acumulada'])\n",
    "\n",
    "# Redondeando el valor mínimo a su anterior más cercano\n",
    "linferior = floor(MinValue)\n",
    "\n",
    "# Creando una lista que contendrá las frecuencias absolutas\n",
    "listaabs = []\n",
    "\n",
    "# Creando una lista que contendrá las frecuencias absolutas acumuladas\n",
    "listaabsacum = []\n",
    "\n",
    "# Creando una lista que contendrá las frecuencias relativas\n",
    "listarel = []\n",
    "\n",
    "# Creando una lista que contendrá las frecuencias relativas\n",
    "listarelacum = []\n",
    "\n",
    "\n",
    "\n",
    "#                       ------------ FUNCIONES ------------\n",
    "\n",
    "# Funcion para contar numeros en un rango (Frecuencia absoluta)\n",
    "def freqabs(lista, linferior, lsuperior):\n",
    "    # Filtrar elementos en la lista que coincidan en los intervalos \n",
    "    # Y contarlos\n",
    "    return len([x for x in lista if x >= linferior and x <= lsuperior])\n",
    "\n",
    "# Funcion para acumular freq absolutas\n",
    "def freqabsacum(lista):\n",
    "    acumulado = 0\n",
    "    # Recorriendo la lista de freq absolutas\n",
    "    for i in lista:\n",
    "        # Sumando la freq anterior\n",
    "        acumulado = acumulado + i\n",
    "    # Retornando el valor\n",
    "    return acumulado\n",
    "\n",
    "# Funcion que calcula la frecuencia relativa / frecuencia relativa acumulada\n",
    "def freqrel(lista):\n",
    "    # Recorriendo la lista de freq absolutas /  absoluta acumulada\n",
    "    for i in lista:\n",
    "        # Calculando la frecuencia relativa\n",
    "        freqactual = i / Total\n",
    "    # Retornando el valor\n",
    "    return freqactual\n",
    "\n",
    "# Funcion para calcular la freq porcentual / freq porcentual acumulada\n",
    "def freqpor(lista):\n",
    "    # Recorriendo la lista de freq relativas / freq relativa acumulada\n",
    "    for i in lista:\n",
    "        # Calculando la frecuencia porcentual\n",
    "        freqactual = i * 100\n",
    "    # Retornando el valor\n",
    "    return freqactual\n",
    "\n",
    "\n",
    "\n",
    "#                       ------------ CREANDO LA TABLA ------------\n",
    "\n",
    "        \n",
    "# Ciclo que recorre los intervalos\n",
    "for i in range(1, round(intervalos)+1):\n",
    "    \n",
    "    # Calculando el límite superior y redondeandolo a su próximo más cercano\n",
    "    lsuperior = ceil(linferior + lon)\n",
    "    \n",
    "    # Añadiendo a la lista las frecuencias absolutas\n",
    "    listaabs.append(freqabs(archivo, linferior, lsuperior))\n",
    "\n",
    "    # Añadiendo a la lista las frecuencias absolutas acumuladas\n",
    "    listaabsacum.append(freqabsacum(listaabs))\n",
    "    \n",
    "    # Añadiendo a la lista las frecuencias relativas\n",
    "    listarel.append(freqrel(listaabs))\n",
    "    \n",
    "    # Añadiendo a la lista las frecuencias relativas acumuladas\n",
    "    listarelacum.append(freqrel(listaabsacum))\n",
    "    \n",
    "    # Añadiendole valores a la tabla\n",
    "    tabla.loc[i] = [ f\"[{linferior}, {lsuperior})\" , (linferior + lsuperior) / 2, freqabs(archivo, linferior, lsuperior), freqabsacum(listaabs), freqrel(listaabs),  freqrel(listaabsacum), freqpor(listarel), freqpor(listarelacum)]\n",
    "    \n",
    "    # Modificando en valor del límite inferior en cada iteración\n",
    "    linferior = lsuperior\n",
    "\n",
    "# Mostrando la tabla en la interfaz\n",
    "tabla"
   ]
  },
  {
   "cell_type": "code",
   "execution_count": null,
   "id": "552c48c3-f6aa-48e7-aac3-ee2522778f57",
   "metadata": {},
   "outputs": [],
   "source": []
  }
 ],
 "metadata": {
  "kernelspec": {
   "display_name": "anaconda-panel-2023.05-py310",
   "language": "python",
   "name": "conda-env-anaconda-panel-2023.05-py310-py"
  },
  "language_info": {
   "codemirror_mode": {
    "name": "ipython",
    "version": 3
   },
   "file_extension": ".py",
   "mimetype": "text/x-python",
   "name": "python",
   "nbconvert_exporter": "python",
   "pygments_lexer": "ipython3",
   "version": "3.11.4"
  }
 },
 "nbformat": 4,
 "nbformat_minor": 5
}
